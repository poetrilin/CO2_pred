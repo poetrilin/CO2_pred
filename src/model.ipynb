{
 "cells": [
  {
   "cell_type": "code",
   "execution_count": 24,
   "metadata": {},
   "outputs": [],
   "source": [
    "import pandas as pd\n",
    "import os\n",
    "import numpy as np\n",
    "import matplotlib.pyplot as plt\n",
    "from sklearn.model_selection import train_test_split"
   ]
  },
  {
   "cell_type": "code",
   "execution_count": 32,
   "metadata": {},
   "outputs": [],
   "source": [
    "filepath_train = os.path.join(os.path.dirname(os.getcwd()),'dataset','train.csv')\n",
    "df = pd.read_csv(filepath_train)\n",
    "X_test_full = pd.read_csv(os.path.join(os.path.dirname(os.getcwd()),'dataset','test.csv'))\n",
    "\n",
    "X_test_full.drop(['ID_LAT_LON_YEAR_WEEK'],axis=1,inplace=True)\n",
    "\n",
    "# 直接去掉缺失值的行\n",
    "df.dropna(axis=0, inplace=True)\n",
    "\n",
    "y = df['emission']\n",
    "train_set = df.drop(['ID_LAT_LON_YEAR_WEEK','emission'],axis=1)\n",
    "train_set\n",
    "X_train_full, X_valid_full, y_train, y_valid = train_test_split(train_set, y, \n",
    "                                                                train_size=0.8, test_size=0.2,\n",
    "                                                                random_state=0)"
   ]
  },
  {
   "cell_type": "code",
   "execution_count": 34,
   "metadata": {},
   "outputs": [
    {
     "data": {
      "text/plain": [
       "array([], shape=(350, 0), dtype=float64)"
      ]
     },
     "execution_count": 34,
     "metadata": {},
     "output_type": "execute_result"
    }
   ],
   "source": [
    "# 处理种类列\n",
    "# 对于树型模型可以直接ordinal encoding 顺序编码\n",
    "from sklearn.preprocessing import OrdinalEncoder\n",
    "\n",
    "# Select categorical columns with relatively low cardinalitynumber of unique values\n",
    "categorical_cols = [cname for cname in X_train_full.columns if\n",
    "                    X_train_full[cname].nunique() < 10 and \n",
    "                    X_train_full[cname].dtype == \"object\"]\n",
    "\n",
    "\n",
    "numerical_cols = [cname for cname in X_train_full.columns if \n",
    "                X_train_full[cname].dtype in ['int64', 'float64']]\n",
    "\n",
    "ordinal_encoder = OrdinalEncoder()\n",
    "\n",
    "# Keep selected columns only\n",
    "my_cols = categorical_cols + numerical_cols\n",
    "X_train = X_train_full[my_cols].copy()\n",
    "X_valid = X_valid_full[my_cols].copy()\n",
    "X_test = X_test_full[my_cols].copy()\n",
    "\n",
    "encoder = OrdinalEncoder()\n",
    "encoder.fit_transform(X_train[categorical_cols])\n"
   ]
  },
  {
   "cell_type": "code",
   "execution_count": 35,
   "metadata": {},
   "outputs": [],
   "source": [
    "from sklearn.metrics import mean_squared_error\n",
    "import math \n",
    "\n",
    "def cal_RMSE(y_pred, y_true):\n",
    "    mse = mean_squared_error(y_pred, y_true)\n",
    "    rmse = math.sqrt(mse)\n",
    "    return rmse"
   ]
  },
  {
   "cell_type": "code",
   "execution_count": 38,
   "metadata": {},
   "outputs": [
    {
     "name": "stdout",
     "output_type": "stream",
     "text": [
      "rmse =102.08969201274135\n"
     ]
    }
   ],
   "source": [
    "# 使用决策树,随机森林,XGBoost三个模型\n",
    "from sklearn.tree import DecisionTreeRegressor # 决策回归树\n",
    "from sklearn.ensemble import RandomForestRegressor\n",
    "from xgboost import XGBRegressor\n",
    "\n",
    "\n",
    "clf  = DecisionTreeRegressor() \n",
    "clf2 = RandomForestRegressor(n_estimators=100, random_state=0)\n",
    "clf3 = XGBRegressor(n_estimators=500)\n",
    "\n",
    "clf = clf.fit(X_train,y_train) \n",
    "clf2 = clf2.fit(X_train,y_train) \n",
    "clf3 = clf3.fit(X_train,y_train) \n",
    "\n",
    "y_pred1 = clf.predict(X_valid_full)\n",
    "y_pred2 = clf2.predict(X_valid_full)\n",
    "y_pred3 = clf3.predict(X_valid_full)\n",
    "\n",
    "\n",
    "model_rmse = cal_RMSE(y_pred1,y_valid )\n",
    "model_rmse2 = cal_RMSE(y_pred2,y_valid )\n",
    "model_rmse3 = cal_RMSE(y_pred3,y_valid )\n",
    "print(f'model1(DecisionTree), rmse ={model_rmse}')\n",
    "print(f'model2(Random Forest), rmse ={model_rmse2}')\n",
    "print(f'model3(XGBoost), rmse ={model_rmse3}')\n",
    "\n"
   ]
  },
  {
   "cell_type": "code",
   "execution_count": null,
   "metadata": {},
   "outputs": [],
   "source": []
  }
 ],
 "metadata": {
  "kernelspec": {
   "display_name": "base",
   "language": "python",
   "name": "python3"
  },
  "language_info": {
   "codemirror_mode": {
    "name": "ipython",
    "version": 3
   },
   "file_extension": ".py",
   "mimetype": "text/x-python",
   "name": "python",
   "nbconvert_exporter": "python",
   "pygments_lexer": "ipython3",
   "version": "3.9.17"
  }
 },
 "nbformat": 4,
 "nbformat_minor": 2
}
